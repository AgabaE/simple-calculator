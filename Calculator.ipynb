{
 "cells": [
  {
   "cell_type": "code",
   "execution_count": null,
   "metadata": {},
   "outputs": [
    {
     "name": "stdout",
     "output_type": "stream",
     "text": [
      "Options:\n",
      "Enter 'add' to add two numbers\n",
      "Enter 'subtract' to subtract two numbers\n",
      "Enter 'multiply' to multiply two numbers\n",
      "Enter 'divide' to divide two numbers\n",
      "Enter 'quit' to end program\n",
      ":add\n",
      "Enter a number: 20\n",
      "Enter another number: 22\n",
      " The answer is 42.0\n",
      "Options:\n",
      "Enter 'add' to add two numbers\n",
      "Enter 'subtract' to subtract two numbers\n",
      "Enter 'multiply' to multiply two numbers\n",
      "Enter 'divide' to divide two numbers\n",
      "Enter 'quit' to end program\n"
     ]
    }
   ],
   "source": [
    "while True:\n",
    "    print(\"Options:\")\n",
    "    print(\"Enter 'add' to add two numbers\")\n",
    "    print(\"Enter 'subtract' to subtract two numbers\")\n",
    "    print(\"Enter 'multiply' to multiply two numbers\")\n",
    "    print(\"Enter 'divide' to divide two numbers\")\n",
    "    print(\"Enter 'quit' to end program\")\n",
    "    user_input= input(\":\")\n",
    "    \n",
    "    if user_input == \"quit\":\n",
    "        break\n",
    "    elif user_input== \"add\" :\n",
    "        num1 = float(input(\"Enter a number: \"))\n",
    "        num2 = float(input(\"Enter another number: \"))\n",
    "        result = str(num1 + num2)\n",
    "        print(\" The answer is \" + result)\n",
    "    elif user_input== \"subtract\" :\n",
    "        num1 = float(input(\"Enter a number: \"))\n",
    "        num2 = float(input(\"Enter another number: \"))\n",
    "        result = str(num1 + num2)\n",
    "        print(\" The answer is \" + result)\n",
    "    elif user_input== \"multiply\" :\n",
    "        num1 = float(input(\"Enter a number: \"))\n",
    "        num2 = float(input(\"Enter another number: \"))\n",
    "        result = str(num1 + num2)\n",
    "        print(\" The answer is \" + result)       \n",
    "    elif user_input== \"divide\" :\n",
    "        num1 = float(input(\"Enter a number: \"))\n",
    "        num2 = float(input(\"Enter another number: \"))\n",
    "        result = str(num1 + num2)\n",
    "        print(\" The answer is \" + result)\n",
    "    else:\n",
    "        print(\"Unknown input\")"
   ]
  },
  {
   "cell_type": "code",
   "execution_count": null,
   "metadata": {},
   "outputs": [],
   "source": []
  }
 ],
 "metadata": {
  "kernelspec": {
   "display_name": "Python 3",
   "language": "python",
   "name": "python3"
  },
  "language_info": {
   "codemirror_mode": {
    "name": "ipython",
    "version": 3
   },
   "file_extension": ".py",
   "mimetype": "text/x-python",
   "name": "python",
   "nbconvert_exporter": "python",
   "pygments_lexer": "ipython3",
   "version": "3.7.3"
  }
 },
 "nbformat": 4,
 "nbformat_minor": 2
}
